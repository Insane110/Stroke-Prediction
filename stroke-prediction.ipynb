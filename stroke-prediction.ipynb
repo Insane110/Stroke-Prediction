{
 "cells": [
  {
   "cell_type": "code",
   "execution_count": 1,
   "id": "c38f89c1",
   "metadata": {
    "_cell_guid": "b1076dfc-b9ad-4769-8c92-a6c4dae69d19",
    "_uuid": "8f2839f25d086af736a60e9eeb907d3b93b6e0e5",
    "execution": {
     "iopub.execute_input": "2023-07-17T17:46:07.550033Z",
     "iopub.status.busy": "2023-07-17T17:46:07.549411Z",
     "iopub.status.idle": "2023-07-17T17:46:07.565966Z",
     "shell.execute_reply": "2023-07-17T17:46:07.564993Z"
    },
    "papermill": {
     "duration": 0.03458,
     "end_time": "2023-07-17T17:46:07.568477",
     "exception": false,
     "start_time": "2023-07-17T17:46:07.533897",
     "status": "completed"
    },
    "tags": []
   },
   "outputs": [
    {
     "name": "stdout",
     "output_type": "stream",
     "text": [
      "/kaggle/input/stroke-prediction-dataset/healthcare-dataset-stroke-data.csv\n"
     ]
    }
   ],
   "source": [
    "# This Python 3 environment comes with many helpful analytics libraries installed\n",
    "# It is defined by the kaggle/python Docker image: https://github.com/kaggle/docker-python\n",
    "# For example, here's several helpful packages to load\n",
    "\n",
    "import numpy as np # linear algebra\n",
    "import pandas as pd # data processing, CSV file I/O (e.g. pd.read_csv)\n",
    "\n",
    "# Input data files are available in the read-only \"../input/\" directory\n",
    "# For example, running this (by clicking run or pressing Shift+Enter) will list all files under the input directory\n",
    "\n",
    "import os\n",
    "for dirname, _, filenames in os.walk('/kaggle/input'):\n",
    "    for filename in filenames:\n",
    "        print(os.path.join(dirname, filename))\n",
    "\n",
    "# You can write up to 20GB to the current directory (/kaggle/working/) that gets preserved as output when you create a version using \"Save & Run All\" \n",
    "# You can also write temporary files to /kaggle/temp/, but they won't be saved outside of the current session"
   ]
  },
  {
   "cell_type": "code",
   "execution_count": 2,
   "id": "18e3d8b6",
   "metadata": {
    "execution": {
     "iopub.execute_input": "2023-07-17T17:46:07.596737Z",
     "iopub.status.busy": "2023-07-17T17:46:07.596044Z",
     "iopub.status.idle": "2023-07-17T17:46:07.626745Z",
     "shell.execute_reply": "2023-07-17T17:46:07.625450Z"
    },
    "papermill": {
     "duration": 0.049852,
     "end_time": "2023-07-17T17:46:07.631549",
     "exception": false,
     "start_time": "2023-07-17T17:46:07.581697",
     "status": "completed"
    },
    "tags": []
   },
   "outputs": [],
   "source": [
    "df = pd.read_csv(\"/kaggle/input/stroke-prediction-dataset/healthcare-dataset-stroke-data.csv\")"
   ]
  },
  {
   "cell_type": "code",
   "execution_count": 3,
   "id": "32db607f",
   "metadata": {
    "execution": {
     "iopub.execute_input": "2023-07-17T17:46:07.687409Z",
     "iopub.status.busy": "2023-07-17T17:46:07.686829Z",
     "iopub.status.idle": "2023-07-17T17:46:07.720065Z",
     "shell.execute_reply": "2023-07-17T17:46:07.719002Z"
    },
    "papermill": {
     "duration": 0.06406,
     "end_time": "2023-07-17T17:46:07.722525",
     "exception": false,
     "start_time": "2023-07-17T17:46:07.658465",
     "status": "completed"
    },
    "tags": []
   },
   "outputs": [
    {
     "data": {
      "text/html": [
       "<div>\n",
       "<style scoped>\n",
       "    .dataframe tbody tr th:only-of-type {\n",
       "        vertical-align: middle;\n",
       "    }\n",
       "\n",
       "    .dataframe tbody tr th {\n",
       "        vertical-align: top;\n",
       "    }\n",
       "\n",
       "    .dataframe thead th {\n",
       "        text-align: right;\n",
       "    }\n",
       "</style>\n",
       "<table border=\"1\" class=\"dataframe\">\n",
       "  <thead>\n",
       "    <tr style=\"text-align: right;\">\n",
       "      <th></th>\n",
       "      <th>id</th>\n",
       "      <th>gender</th>\n",
       "      <th>age</th>\n",
       "      <th>hypertension</th>\n",
       "      <th>heart_disease</th>\n",
       "      <th>ever_married</th>\n",
       "      <th>work_type</th>\n",
       "      <th>Residence_type</th>\n",
       "      <th>avg_glucose_level</th>\n",
       "      <th>bmi</th>\n",
       "      <th>smoking_status</th>\n",
       "      <th>stroke</th>\n",
       "    </tr>\n",
       "  </thead>\n",
       "  <tbody>\n",
       "    <tr>\n",
       "      <th>0</th>\n",
       "      <td>9046</td>\n",
       "      <td>Male</td>\n",
       "      <td>67.0</td>\n",
       "      <td>0</td>\n",
       "      <td>1</td>\n",
       "      <td>Yes</td>\n",
       "      <td>Private</td>\n",
       "      <td>Urban</td>\n",
       "      <td>228.69</td>\n",
       "      <td>36.6</td>\n",
       "      <td>formerly smoked</td>\n",
       "      <td>1</td>\n",
       "    </tr>\n",
       "    <tr>\n",
       "      <th>1</th>\n",
       "      <td>51676</td>\n",
       "      <td>Female</td>\n",
       "      <td>61.0</td>\n",
       "      <td>0</td>\n",
       "      <td>0</td>\n",
       "      <td>Yes</td>\n",
       "      <td>Self-employed</td>\n",
       "      <td>Rural</td>\n",
       "      <td>202.21</td>\n",
       "      <td>NaN</td>\n",
       "      <td>never smoked</td>\n",
       "      <td>1</td>\n",
       "    </tr>\n",
       "    <tr>\n",
       "      <th>2</th>\n",
       "      <td>31112</td>\n",
       "      <td>Male</td>\n",
       "      <td>80.0</td>\n",
       "      <td>0</td>\n",
       "      <td>1</td>\n",
       "      <td>Yes</td>\n",
       "      <td>Private</td>\n",
       "      <td>Rural</td>\n",
       "      <td>105.92</td>\n",
       "      <td>32.5</td>\n",
       "      <td>never smoked</td>\n",
       "      <td>1</td>\n",
       "    </tr>\n",
       "    <tr>\n",
       "      <th>3</th>\n",
       "      <td>60182</td>\n",
       "      <td>Female</td>\n",
       "      <td>49.0</td>\n",
       "      <td>0</td>\n",
       "      <td>0</td>\n",
       "      <td>Yes</td>\n",
       "      <td>Private</td>\n",
       "      <td>Urban</td>\n",
       "      <td>171.23</td>\n",
       "      <td>34.4</td>\n",
       "      <td>smokes</td>\n",
       "      <td>1</td>\n",
       "    </tr>\n",
       "    <tr>\n",
       "      <th>4</th>\n",
       "      <td>1665</td>\n",
       "      <td>Female</td>\n",
       "      <td>79.0</td>\n",
       "      <td>1</td>\n",
       "      <td>0</td>\n",
       "      <td>Yes</td>\n",
       "      <td>Self-employed</td>\n",
       "      <td>Rural</td>\n",
       "      <td>174.12</td>\n",
       "      <td>24.0</td>\n",
       "      <td>never smoked</td>\n",
       "      <td>1</td>\n",
       "    </tr>\n",
       "  </tbody>\n",
       "</table>\n",
       "</div>"
      ],
      "text/plain": [
       "      id  gender   age  hypertension  heart_disease ever_married  \\\n",
       "0   9046    Male  67.0             0              1          Yes   \n",
       "1  51676  Female  61.0             0              0          Yes   \n",
       "2  31112    Male  80.0             0              1          Yes   \n",
       "3  60182  Female  49.0             0              0          Yes   \n",
       "4   1665  Female  79.0             1              0          Yes   \n",
       "\n",
       "       work_type Residence_type  avg_glucose_level   bmi   smoking_status  \\\n",
       "0        Private          Urban             228.69  36.6  formerly smoked   \n",
       "1  Self-employed          Rural             202.21   NaN     never smoked   \n",
       "2        Private          Rural             105.92  32.5     never smoked   \n",
       "3        Private          Urban             171.23  34.4           smokes   \n",
       "4  Self-employed          Rural             174.12  24.0     never smoked   \n",
       "\n",
       "   stroke  \n",
       "0       1  \n",
       "1       1  \n",
       "2       1  \n",
       "3       1  \n",
       "4       1  "
      ]
     },
     "execution_count": 3,
     "metadata": {},
     "output_type": "execute_result"
    }
   ],
   "source": [
    "df.head()"
   ]
  },
  {
   "cell_type": "code",
   "execution_count": 4,
   "id": "d240e3b4",
   "metadata": {
    "execution": {
     "iopub.execute_input": "2023-07-17T17:46:07.758889Z",
     "iopub.status.busy": "2023-07-17T17:46:07.758241Z",
     "iopub.status.idle": "2023-07-17T17:46:07.820896Z",
     "shell.execute_reply": "2023-07-17T17:46:07.819630Z"
    },
    "papermill": {
     "duration": 0.085942,
     "end_time": "2023-07-17T17:46:07.826194",
     "exception": false,
     "start_time": "2023-07-17T17:46:07.740252",
     "status": "completed"
    },
    "tags": []
   },
   "outputs": [
    {
     "data": {
      "text/html": [
       "<div>\n",
       "<style scoped>\n",
       "    .dataframe tbody tr th:only-of-type {\n",
       "        vertical-align: middle;\n",
       "    }\n",
       "\n",
       "    .dataframe tbody tr th {\n",
       "        vertical-align: top;\n",
       "    }\n",
       "\n",
       "    .dataframe thead th {\n",
       "        text-align: right;\n",
       "    }\n",
       "</style>\n",
       "<table border=\"1\" class=\"dataframe\">\n",
       "  <thead>\n",
       "    <tr style=\"text-align: right;\">\n",
       "      <th></th>\n",
       "      <th>id</th>\n",
       "      <th>age</th>\n",
       "      <th>hypertension</th>\n",
       "      <th>heart_disease</th>\n",
       "      <th>avg_glucose_level</th>\n",
       "      <th>bmi</th>\n",
       "      <th>stroke</th>\n",
       "    </tr>\n",
       "  </thead>\n",
       "  <tbody>\n",
       "    <tr>\n",
       "      <th>count</th>\n",
       "      <td>5110.000000</td>\n",
       "      <td>5110.000000</td>\n",
       "      <td>5110.000000</td>\n",
       "      <td>5110.000000</td>\n",
       "      <td>5110.000000</td>\n",
       "      <td>4909.000000</td>\n",
       "      <td>5110.000000</td>\n",
       "    </tr>\n",
       "    <tr>\n",
       "      <th>mean</th>\n",
       "      <td>36517.829354</td>\n",
       "      <td>43.226614</td>\n",
       "      <td>0.097456</td>\n",
       "      <td>0.054012</td>\n",
       "      <td>106.147677</td>\n",
       "      <td>28.893237</td>\n",
       "      <td>0.048728</td>\n",
       "    </tr>\n",
       "    <tr>\n",
       "      <th>std</th>\n",
       "      <td>21161.721625</td>\n",
       "      <td>22.612647</td>\n",
       "      <td>0.296607</td>\n",
       "      <td>0.226063</td>\n",
       "      <td>45.283560</td>\n",
       "      <td>7.854067</td>\n",
       "      <td>0.215320</td>\n",
       "    </tr>\n",
       "    <tr>\n",
       "      <th>min</th>\n",
       "      <td>67.000000</td>\n",
       "      <td>0.080000</td>\n",
       "      <td>0.000000</td>\n",
       "      <td>0.000000</td>\n",
       "      <td>55.120000</td>\n",
       "      <td>10.300000</td>\n",
       "      <td>0.000000</td>\n",
       "    </tr>\n",
       "    <tr>\n",
       "      <th>25%</th>\n",
       "      <td>17741.250000</td>\n",
       "      <td>25.000000</td>\n",
       "      <td>0.000000</td>\n",
       "      <td>0.000000</td>\n",
       "      <td>77.245000</td>\n",
       "      <td>23.500000</td>\n",
       "      <td>0.000000</td>\n",
       "    </tr>\n",
       "    <tr>\n",
       "      <th>50%</th>\n",
       "      <td>36932.000000</td>\n",
       "      <td>45.000000</td>\n",
       "      <td>0.000000</td>\n",
       "      <td>0.000000</td>\n",
       "      <td>91.885000</td>\n",
       "      <td>28.100000</td>\n",
       "      <td>0.000000</td>\n",
       "    </tr>\n",
       "    <tr>\n",
       "      <th>75%</th>\n",
       "      <td>54682.000000</td>\n",
       "      <td>61.000000</td>\n",
       "      <td>0.000000</td>\n",
       "      <td>0.000000</td>\n",
       "      <td>114.090000</td>\n",
       "      <td>33.100000</td>\n",
       "      <td>0.000000</td>\n",
       "    </tr>\n",
       "    <tr>\n",
       "      <th>max</th>\n",
       "      <td>72940.000000</td>\n",
       "      <td>82.000000</td>\n",
       "      <td>1.000000</td>\n",
       "      <td>1.000000</td>\n",
       "      <td>271.740000</td>\n",
       "      <td>97.600000</td>\n",
       "      <td>1.000000</td>\n",
       "    </tr>\n",
       "  </tbody>\n",
       "</table>\n",
       "</div>"
      ],
      "text/plain": [
       "                 id          age  hypertension  heart_disease  \\\n",
       "count   5110.000000  5110.000000   5110.000000    5110.000000   \n",
       "mean   36517.829354    43.226614      0.097456       0.054012   \n",
       "std    21161.721625    22.612647      0.296607       0.226063   \n",
       "min       67.000000     0.080000      0.000000       0.000000   \n",
       "25%    17741.250000    25.000000      0.000000       0.000000   \n",
       "50%    36932.000000    45.000000      0.000000       0.000000   \n",
       "75%    54682.000000    61.000000      0.000000       0.000000   \n",
       "max    72940.000000    82.000000      1.000000       1.000000   \n",
       "\n",
       "       avg_glucose_level          bmi       stroke  \n",
       "count        5110.000000  4909.000000  5110.000000  \n",
       "mean          106.147677    28.893237     0.048728  \n",
       "std            45.283560     7.854067     0.215320  \n",
       "min            55.120000    10.300000     0.000000  \n",
       "25%            77.245000    23.500000     0.000000  \n",
       "50%            91.885000    28.100000     0.000000  \n",
       "75%           114.090000    33.100000     0.000000  \n",
       "max           271.740000    97.600000     1.000000  "
      ]
     },
     "execution_count": 4,
     "metadata": {},
     "output_type": "execute_result"
    }
   ],
   "source": [
    "df.describe()"
   ]
  },
  {
   "cell_type": "code",
   "execution_count": 5,
   "id": "7bfe08e8",
   "metadata": {
    "execution": {
     "iopub.execute_input": "2023-07-17T17:46:07.879900Z",
     "iopub.status.busy": "2023-07-17T17:46:07.879462Z",
     "iopub.status.idle": "2023-07-17T17:46:07.896216Z",
     "shell.execute_reply": "2023-07-17T17:46:07.895200Z"
    },
    "papermill": {
     "duration": 0.048658,
     "end_time": "2023-07-17T17:46:07.898565",
     "exception": false,
     "start_time": "2023-07-17T17:46:07.849907",
     "status": "completed"
    },
    "tags": []
   },
   "outputs": [
    {
     "data": {
      "text/plain": [
       "id                     0\n",
       "gender                 0\n",
       "age                    0\n",
       "hypertension           0\n",
       "heart_disease          0\n",
       "ever_married           0\n",
       "work_type              0\n",
       "Residence_type         0\n",
       "avg_glucose_level      0\n",
       "bmi                  201\n",
       "smoking_status         0\n",
       "stroke                 0\n",
       "dtype: int64"
      ]
     },
     "execution_count": 5,
     "metadata": {},
     "output_type": "execute_result"
    }
   ],
   "source": [
    "df.isnull().sum()"
   ]
  },
  {
   "cell_type": "code",
   "execution_count": 6,
   "id": "8910127c",
   "metadata": {
    "execution": {
     "iopub.execute_input": "2023-07-17T17:46:07.930797Z",
     "iopub.status.busy": "2023-07-17T17:46:07.930519Z",
     "iopub.status.idle": "2023-07-17T17:46:07.936406Z",
     "shell.execute_reply": "2023-07-17T17:46:07.935453Z"
    },
    "papermill": {
     "duration": 0.024531,
     "end_time": "2023-07-17T17:46:07.938797",
     "exception": false,
     "start_time": "2023-07-17T17:46:07.914266",
     "status": "completed"
    },
    "tags": []
   },
   "outputs": [],
   "source": [
    "df.bmi = df.bmi.fillna(df.bmi.mean())"
   ]
  },
  {
   "cell_type": "code",
   "execution_count": 7,
   "id": "53bcdd05",
   "metadata": {
    "execution": {
     "iopub.execute_input": "2023-07-17T17:46:07.971773Z",
     "iopub.status.busy": "2023-07-17T17:46:07.970953Z",
     "iopub.status.idle": "2023-07-17T17:46:07.987842Z",
     "shell.execute_reply": "2023-07-17T17:46:07.986680Z"
    },
    "papermill": {
     "duration": 0.035445,
     "end_time": "2023-07-17T17:46:07.990405",
     "exception": false,
     "start_time": "2023-07-17T17:46:07.954960",
     "status": "completed"
    },
    "tags": []
   },
   "outputs": [
    {
     "data": {
      "text/plain": [
       "id                   0\n",
       "gender               0\n",
       "age                  0\n",
       "hypertension         0\n",
       "heart_disease        0\n",
       "ever_married         0\n",
       "work_type            0\n",
       "Residence_type       0\n",
       "avg_glucose_level    0\n",
       "bmi                  0\n",
       "smoking_status       0\n",
       "stroke               0\n",
       "dtype: int64"
      ]
     },
     "execution_count": 7,
     "metadata": {},
     "output_type": "execute_result"
    }
   ],
   "source": [
    "df.isnull().sum()"
   ]
  },
  {
   "cell_type": "code",
   "execution_count": 8,
   "id": "38323c08",
   "metadata": {
    "execution": {
     "iopub.execute_input": "2023-07-17T17:46:08.023472Z",
     "iopub.status.busy": "2023-07-17T17:46:08.022602Z",
     "iopub.status.idle": "2023-07-17T17:46:08.032423Z",
     "shell.execute_reply": "2023-07-17T17:46:08.031446Z"
    },
    "papermill": {
     "duration": 0.027857,
     "end_time": "2023-07-17T17:46:08.034511",
     "exception": false,
     "start_time": "2023-07-17T17:46:08.006654",
     "status": "completed"
    },
    "tags": []
   },
   "outputs": [
    {
     "data": {
      "text/plain": [
       "0    4861\n",
       "1     249\n",
       "Name: stroke, dtype: int64"
      ]
     },
     "execution_count": 8,
     "metadata": {},
     "output_type": "execute_result"
    }
   ],
   "source": [
    "df.stroke.value_counts()"
   ]
  },
  {
   "cell_type": "markdown",
   "id": "6d43dfd0",
   "metadata": {
    "papermill": {
     "duration": 0.015143,
     "end_time": "2023-07-17T17:46:08.064507",
     "exception": false,
     "start_time": "2023-07-17T17:46:08.049364",
     "status": "completed"
    },
    "tags": []
   },
   "source": [
    "**Basic EDA**"
   ]
  },
  {
   "cell_type": "code",
   "execution_count": 9,
   "id": "99b042d3",
   "metadata": {
    "execution": {
     "iopub.execute_input": "2023-07-17T17:46:08.095559Z",
     "iopub.status.busy": "2023-07-17T17:46:08.094763Z",
     "iopub.status.idle": "2023-07-17T17:46:09.226626Z",
     "shell.execute_reply": "2023-07-17T17:46:09.225619Z"
    },
    "papermill": {
     "duration": 1.149878,
     "end_time": "2023-07-17T17:46:09.229008",
     "exception": false,
     "start_time": "2023-07-17T17:46:08.079130",
     "status": "completed"
    },
    "tags": []
   },
   "outputs": [
    {
     "name": "stderr",
     "output_type": "stream",
     "text": [
      "/opt/conda/lib/python3.10/site-packages/scipy/__init__.py:146: UserWarning: A NumPy version >=1.16.5 and <1.23.0 is required for this version of SciPy (detected version 1.23.5\n",
      "  warnings.warn(f\"A NumPy version >={np_minversion} and <{np_maxversion}\"\n"
     ]
    }
   ],
   "source": [
    "import matplotlib.pyplot as plt\n",
    "import seaborn as sns"
   ]
  },
  {
   "cell_type": "code",
   "execution_count": 10,
   "id": "8ea374be",
   "metadata": {
    "execution": {
     "iopub.execute_input": "2023-07-17T17:46:09.258266Z",
     "iopub.status.busy": "2023-07-17T17:46:09.257974Z",
     "iopub.status.idle": "2023-07-17T17:46:09.564354Z",
     "shell.execute_reply": "2023-07-17T17:46:09.563335Z"
    },
    "papermill": {
     "duration": 0.323468,
     "end_time": "2023-07-17T17:46:09.566661",
     "exception": false,
     "start_time": "2023-07-17T17:46:09.243193",
     "status": "completed"
    },
    "tags": []
   },
   "outputs": [
    {
     "data": {
      "image/png": "[encoded data removed]",
      "text/plain": [
       "<Figure size 640x480 with 1 Axes>"
      ]
     },
     "metadata": {},
     "output_type": "display_data"
    }
   ],
   "source": [
    "grouped_data = df.groupby(['gender', 'stroke']).size().unstack()\n",
    "\n",
    "# Create the bar chart\n",
    "grouped_data.plot(kind='bar', stacked=True)\n",
    "\n",
    "# Add labels and title\n",
    "plt.xlabel('Gender')\n",
    "plt.ylabel('Count')\n",
    "plt.title('Counts of Stroke by Gender')\n",
    "\n",
    "# Show the plot\n",
    "plt.show()"
   ]
  },
  {
   "cell_type": "code",
   "execution_count": 11,
   "id": "3f4c3a24",
   "metadata": {
    "execution": {
     "iopub.execute_input": "2023-07-17T17:46:09.597351Z",
     "iopub.status.busy": "2023-07-17T17:46:09.596564Z",
     "iopub.status.idle": "2023-07-17T17:46:09.710229Z",
     "shell.execute_reply": "2023-07-17T17:46:09.708963Z"
    },
    "papermill": {
     "duration": 0.132158,
     "end_time": "2023-07-17T17:46:09.713459",
     "exception": false,
     "start_time": "2023-07-17T17:46:09.581301",
     "status": "completed"
    },
    "tags": []
   },
   "outputs": [
    {
     "data": {
      "image/png": "[encoded data removed]",
      "text/plain": [
       "<Figure size 640x480 with 1 Axes>"
      ]
     },
     "metadata": {},
     "output_type": "display_data"
    }
   ],
   "source": [
    "new_df=df[df['stroke']==1]\n",
    "gender_data=list(new_df['gender'].value_counts())\n",
    "plt.pie(gender_data,labels=['Female','Male'],autopct='%.2f%%',explode = [0,0.1])\n",
    "plt.show()"
   ]
  },
  {
   "cell_type": "code",
   "execution_count": 12,
   "id": "75dd4f17",
   "metadata": {
    "execution": {
     "iopub.execute_input": "2023-07-17T17:46:09.778113Z",
     "iopub.status.busy": "2023-07-17T17:46:09.777658Z",
     "iopub.status.idle": "2023-07-17T17:46:10.141213Z",
     "shell.execute_reply": "2023-07-17T17:46:10.140276Z"
    },
    "papermill": {
     "duration": 0.39744,
     "end_time": "2023-07-17T17:46:10.143292",
     "exception": false,
     "start_time": "2023-07-17T17:46:09.745852",
     "status": "completed"
    },
    "tags": []
   },
   "outputs": [
    {
     "data": {
      "image/png": "[encoded data removed]",
      "text/plain": [
       "<Figure size 1000x500 with 1 Axes>"
      ]
     },
     "metadata": {},
     "output_type": "display_data"
    }
   ],
   "source": [
    "plt.figure(figsize=(10,5))\n",
    "sns.histplot(new_df['age'],kde=True)\n",
    "plt.title(\"age of people having stroke\")\n",
    "plt.grid()"
   ]
  },
  {
   "cell_type": "code",
   "execution_count": 13,
   "id": "ed925aeb",
   "metadata": {
    "execution": {
     "iopub.execute_input": "2023-07-17T17:46:10.175806Z",
     "iopub.status.busy": "2023-07-17T17:46:10.174988Z",
     "iopub.status.idle": "2023-07-17T17:46:10.438290Z",
     "shell.execute_reply": "2023-07-17T17:46:10.437341Z"
    },
    "papermill": {
     "duration": 0.281768,
     "end_time": "2023-07-17T17:46:10.440512",
     "exception": false,
     "start_time": "2023-07-17T17:46:10.158744",
     "status": "completed"
    },
    "tags": []
   },
   "outputs": [
    {
     "data": {
      "text/plain": [
       "Text(0.5, 1.0, 'variance of bmi')"
      ]
     },
     "execution_count": 13,
     "metadata": {},
     "output_type": "execute_result"
    },
    {
     "data": {
      "image/png": "[encoded data removed]",
      "text/plain": [
       "<Figure size 1000x500 with 1 Axes>"
      ]
     },
     "metadata": {},
     "output_type": "display_data"
    }
   ],
   "source": [
    "plt.figure(figsize=(10,5))\n",
    "sns.boxplot(new_df['bmi'])\n",
    "plt.title(\"variance of bmi\")"
   ]
  },
  {
   "cell_type": "code",
   "execution_count": 14,
   "id": "c483cdfe",
   "metadata": {
    "execution": {
     "iopub.execute_input": "2023-07-17T17:46:10.473065Z",
     "iopub.status.busy": "2023-07-17T17:46:10.472755Z",
     "iopub.status.idle": "2023-07-17T17:46:10.584591Z",
     "shell.execute_reply": "2023-07-17T17:46:10.583677Z"
    },
    "papermill": {
     "duration": 0.130707,
     "end_time": "2023-07-17T17:46:10.586788",
     "exception": false,
     "start_time": "2023-07-17T17:46:10.456081",
     "status": "completed"
    },
    "tags": []
   },
   "outputs": [],
   "source": [
    "from sklearn.preprocessing import LabelEncoder, OneHotEncoder\n",
    "\n",
    "le = LabelEncoder()\n",
    "ohe = OneHotEncoder()"
   ]
  },
  {
   "cell_type": "code",
   "execution_count": 15,
   "id": "9becd987",
   "metadata": {
    "execution": {
     "iopub.execute_input": "2023-07-17T17:46:10.620372Z",
     "iopub.status.busy": "2023-07-17T17:46:10.618838Z",
     "iopub.status.idle": "2023-07-17T17:46:10.625268Z",
     "shell.execute_reply": "2023-07-17T17:46:10.624437Z"
    },
    "papermill": {
     "duration": 0.024686,
     "end_time": "2023-07-17T17:46:10.627157",
     "exception": false,
     "start_time": "2023-07-17T17:46:10.602471",
     "status": "completed"
    },
    "tags": []
   },
   "outputs": [],
   "source": [
    "d1 = df.select_dtypes(include = ['object']).columns.tolist()"
   ]
  },
  {
   "cell_type": "code",
   "execution_count": 16,
   "id": "2fe544f4",
   "metadata": {
    "execution": {
     "iopub.execute_input": "2023-07-17T17:46:10.660003Z",
     "iopub.status.busy": "2023-07-17T17:46:10.658599Z",
     "iopub.status.idle": "2023-07-17T17:46:10.674142Z",
     "shell.execute_reply": "2023-07-17T17:46:10.673301Z"
    },
    "papermill": {
     "duration": 0.033634,
     "end_time": "2023-07-17T17:46:10.676128",
     "exception": false,
     "start_time": "2023-07-17T17:46:10.642494",
     "status": "completed"
    },
    "tags": []
   },
   "outputs": [],
   "source": [
    "for i in d1:\n",
    "    le.fit(df[i])\n",
    "    df[i] = le.transform(df[i])"
   ]
  },
  {
   "cell_type": "markdown",
   "id": "8025cf59",
   "metadata": {
    "papermill": {
     "duration": 0.015316,
     "end_time": "2023-07-17T17:46:10.709403",
     "exception": false,
     "start_time": "2023-07-17T17:46:10.694087",
     "status": "completed"
    },
    "tags": []
   },
   "source": [
    "**Spliting Dataset**"
   ]
  },
  {
   "cell_type": "code",
   "execution_count": 17,
   "id": "c88aca0f",
   "metadata": {
    "execution": {
     "iopub.execute_input": "2023-07-17T17:46:10.741850Z",
     "iopub.status.busy": "2023-07-17T17:46:10.741054Z",
     "iopub.status.idle": "2023-07-17T17:46:10.746808Z",
     "shell.execute_reply": "2023-07-17T17:46:10.745898Z"
    },
    "papermill": {
     "duration": 0.024209,
     "end_time": "2023-07-17T17:46:10.748767",
     "exception": false,
     "start_time": "2023-07-17T17:46:10.724558",
     "status": "completed"
    },
    "tags": []
   },
   "outputs": [],
   "source": [
    "x=df.drop('stroke',axis=1)\n",
    "y=df['stroke']"
   ]
  },
  {
   "cell_type": "markdown",
   "id": "8c87b5a9",
   "metadata": {
    "papermill": {
     "duration": 0.015357,
     "end_time": "2023-07-17T17:46:10.780047",
     "exception": false,
     "start_time": "2023-07-17T17:46:10.764690",
     "status": "completed"
    },
    "tags": []
   },
   "source": [
    "**Train Test Split**"
   ]
  },
  {
   "cell_type": "code",
   "execution_count": 18,
   "id": "91bc9f22",
   "metadata": {
    "execution": {
     "iopub.execute_input": "2023-07-17T17:46:10.812881Z",
     "iopub.status.busy": "2023-07-17T17:46:10.811464Z",
     "iopub.status.idle": "2023-07-17T17:46:10.884358Z",
     "shell.execute_reply": "2023-07-17T17:46:10.883488Z"
    },
    "papermill": {
     "duration": 0.091302,
     "end_time": "2023-07-17T17:46:10.886563",
     "exception": false,
     "start_time": "2023-07-17T17:46:10.795261",
     "status": "completed"
    },
    "tags": []
   },
   "outputs": [],
   "source": [
    "from sklearn.model_selection import train_test_split\n",
    "\n",
    "X_train, X_test, y_train, y_test = train_test_split(x, y, test_size = 0.2, random_state = 0)"
   ]
  },
  {
   "cell_type": "markdown",
   "id": "b7603bb5",
   "metadata": {
    "papermill": {
     "duration": 0.01508,
     "end_time": "2023-07-17T17:46:10.917054",
     "exception": false,
     "start_time": "2023-07-17T17:46:10.901974",
     "status": "completed"
    },
    "tags": []
   },
   "source": [
    "**To resolve class imbalance issue**"
   ]
  },
  {
   "cell_type": "code",
   "execution_count": 19,
   "id": "915ea6a6",
   "metadata": {
    "execution": {
     "iopub.execute_input": "2023-07-17T17:46:10.950226Z",
     "iopub.status.busy": "2023-07-17T17:46:10.948798Z",
     "iopub.status.idle": "2023-07-17T17:46:11.349574Z",
     "shell.execute_reply": "2023-07-17T17:46:11.348451Z"
    },
    "papermill": {
     "duration": 0.419538,
     "end_time": "2023-07-17T17:46:11.352139",
     "exception": false,
     "start_time": "2023-07-17T17:46:10.932601",
     "status": "completed"
    },
    "tags": []
   },
   "outputs": [],
   "source": [
    "from imblearn.over_sampling import SMOTE\n",
    "smote = SMOTE(random_state=0)\n",
    "X_resampled, y_resampled = smote.fit_resample(X_train, y_train)"
   ]
  },
  {
   "cell_type": "markdown",
   "id": "938e1e20",
   "metadata": {
    "papermill": {
     "duration": 0.015514,
     "end_time": "2023-07-17T17:46:11.383574",
     "exception": false,
     "start_time": "2023-07-17T17:46:11.368060",
     "status": "completed"
    },
    "tags": []
   },
   "source": [
    "**Linear Regression**"
   ]
  },
  {
   "cell_type": "code",
   "execution_count": 20,
   "id": "2e0c9614",
   "metadata": {
    "execution": {
     "iopub.execute_input": "2023-07-17T17:46:11.416213Z",
     "iopub.status.busy": "2023-07-17T17:46:11.415339Z",
     "iopub.status.idle": "2023-07-17T17:46:11.456917Z",
     "shell.execute_reply": "2023-07-17T17:46:11.455179Z"
    },
    "papermill": {
     "duration": 0.061067,
     "end_time": "2023-07-17T17:46:11.460035",
     "exception": false,
     "start_time": "2023-07-17T17:46:11.398968",
     "status": "completed"
    },
    "tags": []
   },
   "outputs": [
    {
     "name": "stdout",
     "output_type": "stream",
     "text": [
      "0.4806527508888634\n",
      "Mean Squared Error: 0.1531429203831806\n"
     ]
    }
   ],
   "source": [
    "from sklearn.linear_model import LinearRegression\n",
    "from sklearn.metrics import mean_squared_error\n",
    "\n",
    "lr = LinearRegression()\n",
    "\n",
    "lr.fit(X_resampled, y_resampled)\n",
    "\n",
    "y_pred = lr.predict(X_test)\n",
    "mse = mean_squared_error(y_test, y_pred)\n",
    "\n",
    "# Display the Score and MSE\n",
    "print(lr.score(X_resampled, y_resampled))\n",
    "print('Mean Squared Error:', mse)"
   ]
  },
  {
   "cell_type": "code",
   "execution_count": 21,
   "id": "b77cca9a",
   "metadata": {
    "execution": {
     "iopub.execute_input": "2023-07-17T17:46:11.577907Z",
     "iopub.status.busy": "2023-07-17T17:46:11.577331Z",
     "iopub.status.idle": "2023-07-17T17:46:11.584176Z",
     "shell.execute_reply": "2023-07-17T17:46:11.583269Z"
    },
    "papermill": {
     "duration": 0.066655,
     "end_time": "2023-07-17T17:46:11.586199",
     "exception": false,
     "start_time": "2023-07-17T17:46:11.519544",
     "status": "completed"
    },
    "tags": []
   },
   "outputs": [],
   "source": [
    "def normalize(y_pred):\n",
    "    for i in range(len(y_pred)):\n",
    "        if y_pred[i]>0.5:\n",
    "            y_pred[i]=1\n",
    "        else:\n",
    "            y_pred[i]=0\n",
    "    return y_pred"
   ]
  },
  {
   "cell_type": "code",
   "execution_count": 22,
   "id": "0ff85ccc",
   "metadata": {
    "execution": {
     "iopub.execute_input": "2023-07-17T17:46:11.618709Z",
     "iopub.status.busy": "2023-07-17T17:46:11.617956Z",
     "iopub.status.idle": "2023-07-17T17:46:11.622839Z",
     "shell.execute_reply": "2023-07-17T17:46:11.621949Z"
    },
    "papermill": {
     "duration": 0.023079,
     "end_time": "2023-07-17T17:46:11.624813",
     "exception": false,
     "start_time": "2023-07-17T17:46:11.601734",
     "status": "completed"
    },
    "tags": []
   },
   "outputs": [],
   "source": [
    "y_pred = normalize(y_pred)"
   ]
  },
  {
   "cell_type": "code",
   "execution_count": 23,
   "id": "1e8c0805",
   "metadata": {
    "execution": {
     "iopub.execute_input": "2023-07-17T17:46:11.657164Z",
     "iopub.status.busy": "2023-07-17T17:46:11.656310Z",
     "iopub.status.idle": "2023-07-17T17:46:11.669966Z",
     "shell.execute_reply": "2023-07-17T17:46:11.668948Z"
    },
    "papermill": {
     "duration": 0.032536,
     "end_time": "2023-07-17T17:46:11.672599",
     "exception": false,
     "start_time": "2023-07-17T17:46:11.640063",
     "status": "completed"
    },
    "tags": []
   },
   "outputs": [
    {
     "name": "stdout",
     "output_type": "stream",
     "text": [
      "              precision    recall  f1-score   support\n",
      "\n",
      "           0       0.97      0.79      0.87       968\n",
      "           1       0.12      0.52      0.20        54\n",
      "\n",
      "    accuracy                           0.78      1022\n",
      "   macro avg       0.54      0.65      0.53      1022\n",
      "weighted avg       0.92      0.78      0.83      1022\n",
      "\n"
     ]
    }
   ],
   "source": [
    "from sklearn.metrics import classification_report\n",
    "print(classification_report(y_test,y_pred))"
   ]
  },
  {
   "cell_type": "markdown",
   "id": "c0cd896b",
   "metadata": {
    "papermill": {
     "duration": 0.015342,
     "end_time": "2023-07-17T17:46:11.705373",
     "exception": false,
     "start_time": "2023-07-17T17:46:11.690031",
     "status": "completed"
    },
    "tags": []
   },
   "source": [
    "**Logistic Regression**"
   ]
  },
  {
   "cell_type": "code",
   "execution_count": 24,
   "id": "a3941725",
   "metadata": {
    "execution": {
     "iopub.execute_input": "2023-07-17T17:46:11.738569Z",
     "iopub.status.busy": "2023-07-17T17:46:11.738286Z",
     "iopub.status.idle": "2023-07-17T17:46:11.843816Z",
     "shell.execute_reply": "2023-07-17T17:46:11.842436Z"
    },
    "papermill": {
     "duration": 0.124914,
     "end_time": "2023-07-17T17:46:11.846933",
     "exception": false,
     "start_time": "2023-07-17T17:46:11.722019",
     "status": "completed"
    },
    "tags": []
   },
   "outputs": [
    {
     "name": "stdout",
     "output_type": "stream",
     "text": [
      "0.7965579244798356\n",
      "Mean Squared Error: 0.25244618395303325\n"
     ]
    }
   ],
   "source": [
    "from sklearn.linear_model import LogisticRegression\n",
    "\n",
    "Lr = LogisticRegression()\n",
    "\n",
    "Lr.fit(X_resampled, y_resampled)\n",
    "\n",
    "y_pred1 = Lr.predict(X_test)\n",
    "mse = mean_squared_error(y_test, y_pred1)\n",
    "\n",
    "# Display the Score and MSE\n",
    "print(Lr.score(X_resampled, y_resampled))\n",
    "print('Mean Squared Error:', mse)"
   ]
  },
  {
   "cell_type": "code",
   "execution_count": 25,
   "id": "087ae087",
   "metadata": {
    "execution": {
     "iopub.execute_input": "2023-07-17T17:46:11.913134Z",
     "iopub.status.busy": "2023-07-17T17:46:11.912858Z",
     "iopub.status.idle": "2023-07-17T17:46:11.937215Z",
     "shell.execute_reply": "2023-07-17T17:46:11.936153Z"
    },
    "papermill": {
     "duration": 0.0609,
     "end_time": "2023-07-17T17:46:11.940631",
     "exception": false,
     "start_time": "2023-07-17T17:46:11.879731",
     "status": "completed"
    },
    "tags": []
   },
   "outputs": [
    {
     "name": "stdout",
     "output_type": "stream",
     "text": [
      "              precision    recall  f1-score   support\n",
      "\n",
      "           0       0.97      0.75      0.85       968\n",
      "           1       0.13      0.65      0.21        54\n",
      "\n",
      "    accuracy                           0.75      1022\n",
      "   macro avg       0.55      0.70      0.53      1022\n",
      "weighted avg       0.93      0.75      0.82      1022\n",
      "\n"
     ]
    }
   ],
   "source": [
    "from sklearn.metrics import classification_report\n",
    "print(classification_report(y_test,y_pred1))"
   ]
  },
  {
   "cell_type": "markdown",
   "id": "4ac60dea",
   "metadata": {
    "papermill": {
     "duration": 0.015558,
     "end_time": "2023-07-17T17:46:11.988475",
     "exception": false,
     "start_time": "2023-07-17T17:46:11.972917",
     "status": "completed"
    },
    "tags": []
   },
   "source": [
    "**Decision Tree Classifier**"
   ]
  },
  {
   "cell_type": "code",
   "execution_count": 26,
   "id": "f9e7a299",
   "metadata": {
    "execution": {
     "iopub.execute_input": "2023-07-17T17:46:12.029714Z",
     "iopub.status.busy": "2023-07-17T17:46:12.028657Z",
     "iopub.status.idle": "2023-07-17T17:46:12.068339Z",
     "shell.execute_reply": "2023-07-17T17:46:12.067316Z"
    },
    "papermill": {
     "duration": 0.069981,
     "end_time": "2023-07-17T17:46:12.073890",
     "exception": false,
     "start_time": "2023-07-17T17:46:12.003909",
     "status": "completed"
    },
    "tags": []
   },
   "outputs": [
    {
     "name": "stdout",
     "output_type": "stream",
     "text": [
      "Mean Squared Error: 0.08512720156555773\n",
      "0.9148727984344422\n"
     ]
    }
   ],
   "source": [
    "from sklearn.tree import DecisionTreeClassifier\n",
    "dtc=DecisionTreeClassifier()\n",
    "dtc.fit(X_train,y_train)\n",
    "pred1=dtc.predict(X_test)\n",
    "# Display the Score and MSE\n",
    "mse = mean_squared_error(y_test, pred1)\n",
    "print('Mean Squared Error:', mse)\n",
    "print(dtc.score(X_test,y_test))"
   ]
  },
  {
   "cell_type": "code",
   "execution_count": 27,
   "id": "17e7e831",
   "metadata": {
    "execution": {
     "iopub.execute_input": "2023-07-17T17:46:12.133421Z",
     "iopub.status.busy": "2023-07-17T17:46:12.132867Z",
     "iopub.status.idle": "2023-07-17T17:46:12.152885Z",
     "shell.execute_reply": "2023-07-17T17:46:12.151938Z"
    },
    "papermill": {
     "duration": 0.046332,
     "end_time": "2023-07-17T17:46:12.155196",
     "exception": false,
     "start_time": "2023-07-17T17:46:12.108864",
     "status": "completed"
    },
    "tags": []
   },
   "outputs": [
    {
     "name": "stdout",
     "output_type": "stream",
     "text": [
      "              precision    recall  f1-score   support\n",
      "\n",
      "           0       0.95      0.96      0.96       968\n",
      "           1       0.15      0.13      0.14        54\n",
      "\n",
      "    accuracy                           0.91      1022\n",
      "   macro avg       0.55      0.54      0.55      1022\n",
      "weighted avg       0.91      0.91      0.91      1022\n",
      "\n"
     ]
    }
   ],
   "source": [
    "from sklearn.metrics import classification_report\n",
    "print(classification_report(y_test,pred1))"
   ]
  },
  {
   "cell_type": "markdown",
   "id": "08d6f58a",
   "metadata": {
    "papermill": {
     "duration": 0.022519,
     "end_time": "2023-07-17T17:46:12.204754",
     "exception": false,
     "start_time": "2023-07-17T17:46:12.182235",
     "status": "completed"
    },
    "tags": []
   },
   "source": [
    "**Random Forest Classifier**"
   ]
  },
  {
   "cell_type": "code",
   "execution_count": 28,
   "id": "8964c092",
   "metadata": {
    "execution": {
     "iopub.execute_input": "2023-07-17T17:46:12.251445Z",
     "iopub.status.busy": "2023-07-17T17:46:12.250860Z",
     "iopub.status.idle": "2023-07-17T17:46:12.978479Z",
     "shell.execute_reply": "2023-07-17T17:46:12.977630Z"
    },
    "papermill": {
     "duration": 0.754022,
     "end_time": "2023-07-17T17:46:12.981167",
     "exception": false,
     "start_time": "2023-07-17T17:46:12.227145",
     "status": "completed"
    },
    "tags": []
   },
   "outputs": [
    {
     "name": "stdout",
     "output_type": "stream",
     "text": [
      "Mean Squared Error: 0.05283757338551859\n",
      "0.9471624266144814\n"
     ]
    }
   ],
   "source": [
    "from sklearn.ensemble import RandomForestClassifier\n",
    "rfc=RandomForestClassifier()\n",
    "rfc.fit(X_train,y_train)\n",
    "pred2=rfc.predict(X_test)\n",
    "# Display the Score and MSE\n",
    "mse = mean_squared_error(y_test, pred2)\n",
    "print('Mean Squared Error:', mse)\n",
    "print(rfc.score(X_test,y_test))"
   ]
  },
  {
   "cell_type": "code",
   "execution_count": 29,
   "id": "0550a7cc",
   "metadata": {
    "execution": {
     "iopub.execute_input": "2023-07-17T17:46:13.035827Z",
     "iopub.status.busy": "2023-07-17T17:46:13.035466Z",
     "iopub.status.idle": "2023-07-17T17:46:13.057331Z",
     "shell.execute_reply": "2023-07-17T17:46:13.056534Z"
    },
    "papermill": {
     "duration": 0.054118,
     "end_time": "2023-07-17T17:46:13.059859",
     "exception": false,
     "start_time": "2023-07-17T17:46:13.005741",
     "status": "completed"
    },
    "tags": []
   },
   "outputs": [
    {
     "name": "stdout",
     "output_type": "stream",
     "text": [
      "              precision    recall  f1-score   support\n",
      "\n",
      "           0       0.95      1.00      0.97       968\n",
      "           1       0.00      0.00      0.00        54\n",
      "\n",
      "    accuracy                           0.95      1022\n",
      "   macro avg       0.47      0.50      0.49      1022\n",
      "weighted avg       0.90      0.95      0.92      1022\n",
      "\n"
     ]
    },
    {
     "name": "stderr",
     "output_type": "stream",
     "text": [
      "/opt/conda/lib/python3.10/site-packages/sklearn/metrics/_classification.py:1344: UndefinedMetricWarning: Precision and F-score are ill-defined and being set to 0.0 in labels with no predicted samples. Use `zero_division` parameter to control this behavior.\n",
      "  _warn_prf(average, modifier, msg_start, len(result))\n",
      "/opt/conda/lib/python3.10/site-packages/sklearn/metrics/_classification.py:1344: UndefinedMetricWarning: Precision and F-score are ill-defined and being set to 0.0 in labels with no predicted samples. Use `zero_division` parameter to control this behavior.\n",
      "  _warn_prf(average, modifier, msg_start, len(result))\n",
      "/opt/conda/lib/python3.10/site-packages/sklearn/metrics/_classification.py:1344: UndefinedMetricWarning: Precision and F-score are ill-defined and being set to 0.0 in labels with no predicted samples. Use `zero_division` parameter to control this behavior.\n",
      "  _warn_prf(average, modifier, msg_start, len(result))\n"
     ]
    }
   ],
   "source": [
    "from sklearn.metrics import classification_report\n",
    "print(classification_report(y_test,pred2))"
   ]
  },
  {
   "cell_type": "markdown",
   "id": "8eb0339b",
   "metadata": {
    "papermill": {
     "duration": 0.022872,
     "end_time": "2023-07-17T17:46:13.106113",
     "exception": false,
     "start_time": "2023-07-17T17:46:13.083241",
     "status": "completed"
    },
    "tags": []
   },
   "source": [
    "**Naive Bayes Classification**"
   ]
  },
  {
   "cell_type": "code",
   "execution_count": 30,
   "id": "bb9c39ab",
   "metadata": {
    "execution": {
     "iopub.execute_input": "2023-07-17T17:46:13.153898Z",
     "iopub.status.busy": "2023-07-17T17:46:13.153587Z",
     "iopub.status.idle": "2023-07-17T17:46:13.191332Z",
     "shell.execute_reply": "2023-07-17T17:46:13.190556Z"
    },
    "papermill": {
     "duration": 0.064425,
     "end_time": "2023-07-17T17:46:13.193866",
     "exception": false,
     "start_time": "2023-07-17T17:46:13.129441",
     "status": "completed"
    },
    "tags": []
   },
   "outputs": [
    {
     "name": "stdout",
     "output_type": "stream",
     "text": [
      "Accuracy: 0.9246575342465754\n",
      "Classification Report:\n",
      "               precision    recall  f1-score   support\n",
      "\n",
      "           0       0.96      0.96      0.96       968\n",
      "           1       0.27      0.26      0.27        54\n",
      "\n",
      "    accuracy                           0.92      1022\n",
      "   macro avg       0.62      0.61      0.61      1022\n",
      "weighted avg       0.92      0.92      0.92      1022\n",
      "\n"
     ]
    }
   ],
   "source": [
    "from sklearn.naive_bayes import GaussianNB\n",
    "from sklearn.metrics import accuracy_score\n",
    "nb = GaussianNB()\n",
    "nb.fit(X_train, y_train)\n",
    "pred3 = nb.predict(X_test)\n",
    "# Evaluate the model's performance\n",
    "accuracy = accuracy_score(y_test, pred3)\n",
    "cr1 = classification_report(y_test, pred3)\n",
    "\n",
    "# Display the results\n",
    "print('Accuracy:', accuracy)\n",
    "print('Classification Report:\\n', cr1)\n"
   ]
  },
  {
   "cell_type": "markdown",
   "id": "45e18e11",
   "metadata": {
    "papermill": {
     "duration": 0.022743,
     "end_time": "2023-07-17T17:46:13.240008",
     "exception": false,
     "start_time": "2023-07-17T17:46:13.217265",
     "status": "completed"
    },
    "tags": []
   },
   "source": [
    "**Support Vector Machine Classification**"
   ]
  },
  {
   "cell_type": "code",
   "execution_count": 31,
   "id": "a7de2a24",
   "metadata": {
    "execution": {
     "iopub.execute_input": "2023-07-17T17:46:13.287887Z",
     "iopub.status.busy": "2023-07-17T17:46:13.287570Z",
     "iopub.status.idle": "2023-07-17T17:46:13.465183Z",
     "shell.execute_reply": "2023-07-17T17:46:13.464360Z"
    },
    "papermill": {
     "duration": 0.204351,
     "end_time": "2023-07-17T17:46:13.467711",
     "exception": false,
     "start_time": "2023-07-17T17:46:13.263360",
     "status": "completed"
    },
    "tags": []
   },
   "outputs": [
    {
     "name": "stdout",
     "output_type": "stream",
     "text": [
      "Accuracy: 0.9471624266144814\n",
      "Classification Report:\n",
      "               precision    recall  f1-score   support\n",
      "\n",
      "           0       0.95      1.00      0.97       968\n",
      "           1       0.00      0.00      0.00        54\n",
      "\n",
      "    accuracy                           0.95      1022\n",
      "   macro avg       0.47      0.50      0.49      1022\n",
      "weighted avg       0.90      0.95      0.92      1022\n",
      "\n"
     ]
    },
    {
     "name": "stderr",
     "output_type": "stream",
     "text": [
      "/opt/conda/lib/python3.10/site-packages/sklearn/metrics/_classification.py:1344: UndefinedMetricWarning: Precision and F-score are ill-defined and being set to 0.0 in labels with no predicted samples. Use `zero_division` parameter to control this behavior.\n",
      "  _warn_prf(average, modifier, msg_start, len(result))\n",
      "/opt/conda/lib/python3.10/site-packages/sklearn/metrics/_classification.py:1344: UndefinedMetricWarning: Precision and F-score are ill-defined and being set to 0.0 in labels with no predicted samples. Use `zero_division` parameter to control this behavior.\n",
      "  _warn_prf(average, modifier, msg_start, len(result))\n",
      "/opt/conda/lib/python3.10/site-packages/sklearn/metrics/_classification.py:1344: UndefinedMetricWarning: Precision and F-score are ill-defined and being set to 0.0 in labels with no predicted samples. Use `zero_division` parameter to control this behavior.\n",
      "  _warn_prf(average, modifier, msg_start, len(result))\n"
     ]
    }
   ],
   "source": [
    "from sklearn.svm import SVC\n",
    "svc = SVC()\n",
    "svc.fit(X_train, y_train)\n",
    "pred4 = svc.predict(X_test)\n",
    "\n",
    "accuracy = accuracy_score(y_test, pred4)\n",
    "cr2 = classification_report(y_test, pred4)\n",
    "# Display the results\n",
    "print('Accuracy:', accuracy)\n",
    "print('Classification Report:\\n', cr2)"
   ]
  },
  {
   "cell_type": "markdown",
   "id": "07520616",
   "metadata": {
    "papermill": {
     "duration": 0.018755,
     "end_time": "2023-07-17T17:46:13.510793",
     "exception": false,
     "start_time": "2023-07-17T17:46:13.492038",
     "status": "completed"
    },
    "tags": []
   },
   "source": [
    "**K Nearest Neighbours**"
   ]
  },
  {
   "cell_type": "code",
   "execution_count": 32,
   "id": "7985bae1",
   "metadata": {
    "execution": {
     "iopub.execute_input": "2023-07-17T17:46:13.544316Z",
     "iopub.status.busy": "2023-07-17T17:46:13.544023Z",
     "iopub.status.idle": "2023-07-17T17:46:13.603165Z",
     "shell.execute_reply": "2023-07-17T17:46:13.602185Z"
    },
    "papermill": {
     "duration": 0.078446,
     "end_time": "2023-07-17T17:46:13.605352",
     "exception": false,
     "start_time": "2023-07-17T17:46:13.526906",
     "status": "completed"
    },
    "tags": []
   },
   "outputs": [
    {
     "name": "stdout",
     "output_type": "stream",
     "text": [
      "Accuracy: 0.9471624266144814\n",
      "Classification Report:\n",
      "               precision    recall  f1-score   support\n",
      "\n",
      "           0       0.95      1.00      0.97       968\n",
      "           1       0.00      0.00      0.00        54\n",
      "\n",
      "    accuracy                           0.95      1022\n",
      "   macro avg       0.47      0.50      0.49      1022\n",
      "weighted avg       0.90      0.95      0.92      1022\n",
      "\n"
     ]
    },
    {
     "name": "stderr",
     "output_type": "stream",
     "text": [
      "/opt/conda/lib/python3.10/site-packages/sklearn/metrics/_classification.py:1344: UndefinedMetricWarning: Precision and F-score are ill-defined and being set to 0.0 in labels with no predicted samples. Use `zero_division` parameter to control this behavior.\n",
      "  _warn_prf(average, modifier, msg_start, len(result))\n",
      "/opt/conda/lib/python3.10/site-packages/sklearn/metrics/_classification.py:1344: UndefinedMetricWarning: Precision and F-score are ill-defined and being set to 0.0 in labels with no predicted samples. Use `zero_division` parameter to control this behavior.\n",
      "  _warn_prf(average, modifier, msg_start, len(result))\n",
      "/opt/conda/lib/python3.10/site-packages/sklearn/metrics/_classification.py:1344: UndefinedMetricWarning: Precision and F-score are ill-defined and being set to 0.0 in labels with no predicted samples. Use `zero_division` parameter to control this behavior.\n",
      "  _warn_prf(average, modifier, msg_start, len(result))\n"
     ]
    }
   ],
   "source": [
    "from sklearn.neighbors import KNeighborsClassifier\n",
    "knc = KNeighborsClassifier(n_neighbors=4)\n",
    "knc.fit(X_train, y_train)\n",
    "pred5 = knc.predict(X_test)\n",
    "\n",
    "accuracy = accuracy_score(y_test, pred5)\n",
    "cr3 = classification_report(y_test, pred5)\n",
    "\n",
    "# Display the results\n",
    "print('Accuracy:', accuracy)\n",
    "print('Classification Report:\\n', cr3)\n"
   ]
  },
  {
   "cell_type": "markdown",
   "id": "813abd9e",
   "metadata": {
    "papermill": {
     "duration": 0.016496,
     "end_time": "2023-07-17T17:46:13.638422",
     "exception": false,
     "start_time": "2023-07-17T17:46:13.621926",
     "status": "completed"
    },
    "tags": []
   },
   "source": [
    "**Ada Boost Algorithm**"
   ]
  },
  {
   "cell_type": "code",
   "execution_count": 33,
   "id": "bbb11d51",
   "metadata": {
    "execution": {
     "iopub.execute_input": "2023-07-17T17:46:13.672743Z",
     "iopub.status.busy": "2023-07-17T17:46:13.672232Z",
     "iopub.status.idle": "2023-07-17T17:46:42.160275Z",
     "shell.execute_reply": "2023-07-17T17:46:42.159001Z"
    },
    "papermill": {
     "duration": 28.507728,
     "end_time": "2023-07-17T17:46:42.162438",
     "exception": false,
     "start_time": "2023-07-17T17:46:13.654710",
     "status": "completed"
    },
    "tags": []
   },
   "outputs": [
    {
     "name": "stderr",
     "output_type": "stream",
     "text": [
      "/opt/conda/lib/python3.10/site-packages/sklearn/ensemble/_base.py:166: FutureWarning: `base_estimator` was renamed to `estimator` in version 1.2 and will be removed in 1.4.\n",
      "  warnings.warn(\n"
     ]
    },
    {
     "name": "stdout",
     "output_type": "stream",
     "text": [
      "Accuracy: 0.9461839530332681\n"
     ]
    }
   ],
   "source": [
    "from sklearn.ensemble import AdaBoostClassifier\n",
    "\n",
    "# Create a base classifier (in this case, decision tree)\n",
    "base_classifier = RandomForestClassifier(max_depth=1)\n",
    "\n",
    "# Create an AdaBoost classifier using the base classifier\n",
    "adaboost = AdaBoostClassifier(base_estimator=base_classifier, n_estimators=100, random_state=0)\n",
    "\n",
    "# Train the AdaBoost classifier\n",
    "adaboost.fit(X_train, y_train)\n",
    "\n",
    "# Predict on the test set\n",
    "pred6 = adaboost.predict(X_test)\n",
    "\n",
    "# Evaluate the accuracy of the classifier\n",
    "accuracy = accuracy_score(y_test, pred6)\n",
    "print(\"Accuracy:\", accuracy)\n"
   ]
  },
  {
   "cell_type": "code",
   "execution_count": 34,
   "id": "39408d9b",
   "metadata": {
    "execution": {
     "iopub.execute_input": "2023-07-17T17:46:42.197618Z",
     "iopub.status.busy": "2023-07-17T17:46:42.197294Z",
     "iopub.status.idle": "2023-07-17T17:46:42.210712Z",
     "shell.execute_reply": "2023-07-17T17:46:42.209439Z"
    },
    "papermill": {
     "duration": 0.033161,
     "end_time": "2023-07-17T17:46:42.212849",
     "exception": false,
     "start_time": "2023-07-17T17:46:42.179688",
     "status": "completed"
    },
    "tags": []
   },
   "outputs": [
    {
     "name": "stdout",
     "output_type": "stream",
     "text": [
      "              precision    recall  f1-score   support\n",
      "\n",
      "           0       0.95      1.00      0.97       968\n",
      "           1       0.33      0.02      0.04        54\n",
      "\n",
      "    accuracy                           0.95      1022\n",
      "   macro avg       0.64      0.51      0.50      1022\n",
      "weighted avg       0.92      0.95      0.92      1022\n",
      "\n"
     ]
    }
   ],
   "source": [
    "print(classification_report(y_test,pred6))"
   ]
  },
  {
   "cell_type": "markdown",
   "id": "4391f09d",
   "metadata": {
    "papermill": {
     "duration": 0.016355,
     "end_time": "2023-07-17T17:46:42.246099",
     "exception": false,
     "start_time": "2023-07-17T17:46:42.229744",
     "status": "completed"
    },
    "tags": []
   },
   "source": [
    "**Gradient Boosting Classifier**"
   ]
  },
  {
   "cell_type": "code",
   "execution_count": 35,
   "id": "ac7334f3",
   "metadata": {
    "execution": {
     "iopub.execute_input": "2023-07-17T17:46:42.281583Z",
     "iopub.status.busy": "2023-07-17T17:46:42.280137Z",
     "iopub.status.idle": "2023-07-17T17:46:48.682736Z",
     "shell.execute_reply": "2023-07-17T17:46:48.681449Z"
    },
    "papermill": {
     "duration": 6.422431,
     "end_time": "2023-07-17T17:46:48.685067",
     "exception": false,
     "start_time": "2023-07-17T17:46:42.262636",
     "status": "completed"
    },
    "tags": []
   },
   "outputs": [
    {
     "name": "stdout",
     "output_type": "stream",
     "text": [
      "Accuracy_classifier: 0.9412915851272016\n"
     ]
    }
   ],
   "source": [
    "from sklearn.ensemble import GradientBoostingClassifier\n",
    "gradient_boost1 = GradientBoostingClassifier(n_estimators=1000, learning_rate=0.1, random_state=42)\n",
    "gradient_boost1.fit(X_train, y_train)\n",
    "pred7_1 = gradient_boost1.predict(X_test)\n",
    "\n",
    "# Evaluate the accuracy of the classifier\n",
    "accuracy1 = accuracy_score(y_test, pred7_1)\n",
    "print(\"Accuracy_classifier:\", accuracy1)\n",
    "\n"
   ]
  },
  {
   "cell_type": "markdown",
   "id": "3c7c81ee",
   "metadata": {
    "papermill": {
     "duration": 0.016544,
     "end_time": "2023-07-17T17:46:48.719330",
     "exception": false,
     "start_time": "2023-07-17T17:46:48.702786",
     "status": "completed"
    },
    "tags": []
   },
   "source": [
    "**Gradient Boosting Regressor**"
   ]
  },
  {
   "cell_type": "code",
   "execution_count": 36,
   "id": "063ff1ee",
   "metadata": {
    "execution": {
     "iopub.execute_input": "2023-07-17T17:46:48.753815Z",
     "iopub.status.busy": "2023-07-17T17:46:48.753518Z",
     "iopub.status.idle": "2023-07-17T17:46:54.094504Z",
     "shell.execute_reply": "2023-07-17T17:46:54.092571Z"
    },
    "papermill": {
     "duration": 5.361318,
     "end_time": "2023-07-17T17:46:54.097359",
     "exception": false,
     "start_time": "2023-07-17T17:46:48.736041",
     "status": "completed"
    },
    "tags": []
   },
   "outputs": [
    {
     "name": "stdout",
     "output_type": "stream",
     "text": [
      "Accuracy_regressor: 0.9383561643835616\n"
     ]
    }
   ],
   "source": [
    "from sklearn.ensemble import GradientBoostingRegressor\n",
    "gradient_boost2 = GradientBoostingRegressor(n_estimators=1000, learning_rate=0.1, random_state=42)\n",
    "gradient_boost2.fit(X_train, y_train)\n",
    "pred7_2 = gradient_boost2.predict(X_test)\n",
    "pred7_2 = normalize(pred7_2)\n",
    "# Evaluate the accuracy of the classifier\n",
    "accuracy2 = accuracy_score(y_test, pred7_2)\n",
    "print(\"Accuracy_regressor:\", accuracy2)"
   ]
  },
  {
   "cell_type": "markdown",
   "id": "494ee610",
   "metadata": {
    "papermill": {
     "duration": 0.017402,
     "end_time": "2023-07-17T17:46:54.133458",
     "exception": false,
     "start_time": "2023-07-17T17:46:54.116056",
     "status": "completed"
    },
    "tags": []
   },
   "source": [
    "**Classifier better than Regressor**"
   ]
  },
  {
   "cell_type": "code",
   "execution_count": 37,
   "id": "137c8cf8",
   "metadata": {
    "execution": {
     "iopub.execute_input": "2023-07-17T17:46:54.168660Z",
     "iopub.status.busy": "2023-07-17T17:46:54.168332Z",
     "iopub.status.idle": "2023-07-17T17:46:54.181307Z",
     "shell.execute_reply": "2023-07-17T17:46:54.180140Z"
    },
    "papermill": {
     "duration": 0.033062,
     "end_time": "2023-07-17T17:46:54.183464",
     "exception": false,
     "start_time": "2023-07-17T17:46:54.150402",
     "status": "completed"
    },
    "tags": []
   },
   "outputs": [
    {
     "name": "stdout",
     "output_type": "stream",
     "text": [
      "              precision    recall  f1-score   support\n",
      "\n",
      "           0       0.95      0.99      0.97       968\n",
      "           1       0.29      0.07      0.12        54\n",
      "\n",
      "    accuracy                           0.94      1022\n",
      "   macro avg       0.62      0.53      0.54      1022\n",
      "weighted avg       0.92      0.94      0.92      1022\n",
      "\n"
     ]
    }
   ],
   "source": [
    "print(classification_report(y_test,pred7_1))"
   ]
  },
  {
   "cell_type": "code",
   "execution_count": 38,
   "id": "d1e36105",
   "metadata": {
    "execution": {
     "iopub.execute_input": "2023-07-17T17:46:54.220194Z",
     "iopub.status.busy": "2023-07-17T17:46:54.218630Z",
     "iopub.status.idle": "2023-07-17T17:46:54.234211Z",
     "shell.execute_reply": "2023-07-17T17:46:54.232593Z"
    },
    "papermill": {
     "duration": 0.035651,
     "end_time": "2023-07-17T17:46:54.236266",
     "exception": false,
     "start_time": "2023-07-17T17:46:54.200615",
     "status": "completed"
    },
    "tags": []
   },
   "outputs": [
    {
     "name": "stdout",
     "output_type": "stream",
     "text": [
      "              precision    recall  f1-score   support\n",
      "\n",
      "           0       0.95      0.99      0.97       968\n",
      "           1       0.15      0.04      0.06        54\n",
      "\n",
      "    accuracy                           0.94      1022\n",
      "   macro avg       0.55      0.51      0.51      1022\n",
      "weighted avg       0.91      0.94      0.92      1022\n",
      "\n"
     ]
    }
   ],
   "source": [
    "print(classification_report(y_test,pred7_2))"
   ]
  },
  {
   "cell_type": "markdown",
   "id": "d5f678fb",
   "metadata": {
    "papermill": {
     "duration": 0.016822,
     "end_time": "2023-07-17T17:46:54.269937",
     "exception": false,
     "start_time": "2023-07-17T17:46:54.253115",
     "status": "completed"
    },
    "tags": []
   },
   "source": [
    "**XGBoost**"
   ]
  },
  {
   "cell_type": "code",
   "execution_count": 39,
   "id": "0412bb36",
   "metadata": {
    "execution": {
     "iopub.execute_input": "2023-07-17T17:46:54.305703Z",
     "iopub.status.busy": "2023-07-17T17:46:54.304952Z",
     "iopub.status.idle": "2023-07-17T17:46:56.502610Z",
     "shell.execute_reply": "2023-07-17T17:46:56.501458Z"
    },
    "papermill": {
     "duration": 2.217786,
     "end_time": "2023-07-17T17:46:56.504747",
     "exception": false,
     "start_time": "2023-07-17T17:46:54.286961",
     "status": "completed"
    },
    "tags": []
   },
   "outputs": [
    {
     "name": "stdout",
     "output_type": "stream",
     "text": [
      "Accuracy: 0.9432485322896281\n"
     ]
    }
   ],
   "source": [
    "import xgboost as xgb\n",
    "# Convert the data into DMatrix format for XGBoost\n",
    "dtrain = xgb.DMatrix(X_train, label=y_train)\n",
    "dtest = xgb.DMatrix(X_test, label=y_test)\n",
    "\n",
    "# Set the parameters for XGBoost\n",
    "params = {\n",
    "    'objective': 'binary:logistic',\n",
    "    'eval_metric': 'logloss',\n",
    "    'max_depth': 3,\n",
    "    'eta': 0.1,\n",
    "    'seed': 42\n",
    "}\n",
    "\n",
    "# Train the XGBoost classifier\n",
    "num_rounds = 1000\n",
    "xgb_model = xgb.train(params, dtrain, num_rounds)\n",
    "\n",
    "# Predict on the test set\n",
    "pred8 = xgb_model.predict(dtest)\n",
    "pred8 = [round(value) for value in pred8]\n",
    "\n",
    "# Evaluate the accuracy of the classifier\n",
    "accuracy = accuracy_score(y_test, pred8)\n",
    "print(\"Accuracy:\", accuracy)\n"
   ]
  },
  {
   "cell_type": "code",
   "execution_count": 40,
   "id": "47e79234",
   "metadata": {
    "execution": {
     "iopub.execute_input": "2023-07-17T17:46:56.541956Z",
     "iopub.status.busy": "2023-07-17T17:46:56.541656Z",
     "iopub.status.idle": "2023-07-17T17:46:56.555363Z",
     "shell.execute_reply": "2023-07-17T17:46:56.553891Z"
    },
    "papermill": {
     "duration": 0.034069,
     "end_time": "2023-07-17T17:46:56.557397",
     "exception": false,
     "start_time": "2023-07-17T17:46:56.523328",
     "status": "completed"
    },
    "tags": []
   },
   "outputs": [
    {
     "name": "stdout",
     "output_type": "stream",
     "text": [
      "              precision    recall  f1-score   support\n",
      "\n",
      "           0       0.95      0.99      0.97       968\n",
      "           1       0.30      0.06      0.09        54\n",
      "\n",
      "    accuracy                           0.94      1022\n",
      "   macro avg       0.62      0.52      0.53      1022\n",
      "weighted avg       0.92      0.94      0.92      1022\n",
      "\n"
     ]
    }
   ],
   "source": [
    "print(classification_report(y_test,pred8))"
   ]
  },
  {
   "cell_type": "code",
   "execution_count": null,
   "id": "593feefe",
   "metadata": {
    "papermill": {
     "duration": 0.017222,
     "end_time": "2023-07-17T17:46:56.594346",
     "exception": false,
     "start_time": "2023-07-17T17:46:56.577124",
     "status": "completed"
    },
    "tags": []
   },
   "outputs": [],
   "source": []
  }
 ],
 "metadata": {
  "kernelspec": {
   "display_name": "Python 3",
   "language": "python",
   "name": "python3"
  },
  "language_info": {
   "codemirror_mode": {
    "name": "ipython",
    "version": 3
   },
   "file_extension": ".py",
   "mimetype": "text/x-python",
   "name": "python",
   "nbconvert_exporter": "python",
   "pygments_lexer": "ipython3",
   "version": "3.10.12"
  },
  "papermill": {
   "default_parameters": {},
   "duration": 59.140997,
   "end_time": "2023-07-17T17:46:57.330797",
   "environment_variables": {},
   "exception": null,
   "input_path": "__notebook__.ipynb",
   "output_path": "__notebook__.ipynb",
   "parameters": {},
   "start_time": "2023-07-17T17:45:58.189800",
   "version": "2.4.0"
  }
 },
 "nbformat": 4,
 "nbformat_minor": 5
}
